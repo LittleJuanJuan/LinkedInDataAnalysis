{
 "cells": [
  {
   "cell_type": "code",
   "execution_count": 3,
   "metadata": {},
   "outputs": [],
   "source": [
    "import numpy as np\n",
    "import pandas as pd\n",
    "import matplotlib.pyplot as plt\n",
    "%matplotlib inline\n",
    "#matplotlib.style.use('ggplot')"
   ]
  },
  {
   "cell_type": "code",
   "execution_count": 4,
   "metadata": {},
   "outputs": [
    {
     "name": "stderr",
     "output_type": "stream",
     "text": [
      "c:\\users\\juan\\appdata\\local\\programs\\python\\python36\\lib\\site-packages\\IPython\\core\\interactiveshell.py:2785: DtypeWarning: Columns (9,10) have mixed types. Specify dtype option on import or set low_memory=False.\n",
      "  interactivity=interactivity, compiler=compiler, result=result)\n"
     ]
    }
   ],
   "source": [
    "data = pd.read_csv(\"temp_datalab_records_linkedin_company.csv\")"
   ]
  },
  {
   "cell_type": "code",
   "execution_count": 5,
   "metadata": {},
   "outputs": [
    {
     "data": {
      "text/html": [
       "<div>\n",
       "<style scoped>\n",
       "    .dataframe tbody tr th:only-of-type {\n",
       "        vertical-align: middle;\n",
       "    }\n",
       "\n",
       "    .dataframe tbody tr th {\n",
       "        vertical-align: top;\n",
       "    }\n",
       "\n",
       "    .dataframe thead th {\n",
       "        text-align: right;\n",
       "    }\n",
       "</style>\n",
       "<table border=\"1\" class=\"dataframe\">\n",
       "  <thead>\n",
       "    <tr style=\"text-align: right;\">\n",
       "      <th></th>\n",
       "      <th>dataset_id</th>\n",
       "      <th>as_of_date</th>\n",
       "      <th>company_name</th>\n",
       "      <th>followers_count</th>\n",
       "      <th>employees_on_platform</th>\n",
       "      <th>link</th>\n",
       "      <th>industry</th>\n",
       "      <th>date_added</th>\n",
       "      <th>date_updated</th>\n",
       "      <th>description</th>\n",
       "      <th>website</th>\n",
       "      <th>entity_id</th>\n",
       "      <th>cusip</th>\n",
       "      <th>isin</th>\n",
       "    </tr>\n",
       "  </thead>\n",
       "  <tbody>\n",
       "    <tr>\n",
       "      <th>0</th>\n",
       "      <td>58329</td>\n",
       "      <td>2015-09-14</td>\n",
       "      <td>Goldman Sachs</td>\n",
       "      <td>552254</td>\n",
       "      <td>38124</td>\n",
       "      <td>https://www.linkedin.com/company/1382</td>\n",
       "      <td>Investment Banking</td>\n",
       "      <td>2015-09-14 00:00:00+00</td>\n",
       "      <td>2015-09-14 00:00:00+00</td>\n",
       "      <td>NaN</td>\n",
       "      <td>NaN</td>\n",
       "      <td>NaN</td>\n",
       "      <td>NaN</td>\n",
       "      <td>NaN</td>\n",
       "    </tr>\n",
       "    <tr>\n",
       "      <th>1</th>\n",
       "      <td>58329</td>\n",
       "      <td>2015-09-15</td>\n",
       "      <td>Goldman Sachs</td>\n",
       "      <td>552862</td>\n",
       "      <td>38141</td>\n",
       "      <td>https://www.linkedin.com/company/1382</td>\n",
       "      <td>Investment Banking</td>\n",
       "      <td>2015-09-15 00:00:00+00</td>\n",
       "      <td>2015-09-15 00:00:00+00</td>\n",
       "      <td>NaN</td>\n",
       "      <td>NaN</td>\n",
       "      <td>NaN</td>\n",
       "      <td>NaN</td>\n",
       "      <td>NaN</td>\n",
       "    </tr>\n",
       "    <tr>\n",
       "      <th>2</th>\n",
       "      <td>58363</td>\n",
       "      <td>2015-09-16</td>\n",
       "      <td>United Technologies</td>\n",
       "      <td>59157</td>\n",
       "      <td>14982</td>\n",
       "      <td>https://www.linkedin.com/company/2426</td>\n",
       "      <td>Aviation &amp; Aerospace</td>\n",
       "      <td>2015-09-16 00:00:00+00</td>\n",
       "      <td>2015-09-16 00:00:00+00</td>\n",
       "      <td>NaN</td>\n",
       "      <td>NaN</td>\n",
       "      <td>NaN</td>\n",
       "      <td>NaN</td>\n",
       "      <td>NaN</td>\n",
       "    </tr>\n",
       "    <tr>\n",
       "      <th>3</th>\n",
       "      <td>58366</td>\n",
       "      <td>2015-09-16</td>\n",
       "      <td>Novo Nordisk</td>\n",
       "      <td>336175</td>\n",
       "      <td>26448</td>\n",
       "      <td>https://www.linkedin.com/company/2227</td>\n",
       "      <td>Pharmaceuticals</td>\n",
       "      <td>2015-09-16 00:00:00+00</td>\n",
       "      <td>2015-09-16 00:00:00+00</td>\n",
       "      <td>NaN</td>\n",
       "      <td>NaN</td>\n",
       "      <td>NaN</td>\n",
       "      <td>NaN</td>\n",
       "      <td>NaN</td>\n",
       "    </tr>\n",
       "    <tr>\n",
       "      <th>4</th>\n",
       "      <td>58371</td>\n",
       "      <td>2015-09-16</td>\n",
       "      <td>Lowe's Companies, Inc.</td>\n",
       "      <td>134255</td>\n",
       "      <td>62574</td>\n",
       "      <td>https://www.linkedin.com/company/4128</td>\n",
       "      <td>Retail</td>\n",
       "      <td>2015-09-16 00:00:00+00</td>\n",
       "      <td>2015-09-16 00:00:00+00</td>\n",
       "      <td>NaN</td>\n",
       "      <td>NaN</td>\n",
       "      <td>NaN</td>\n",
       "      <td>NaN</td>\n",
       "      <td>NaN</td>\n",
       "    </tr>\n",
       "  </tbody>\n",
       "</table>\n",
       "</div>"
      ],
      "text/plain": [
       "   dataset_id  as_of_date            company_name  followers_count  \\\n",
       "0       58329  2015-09-14           Goldman Sachs           552254   \n",
       "1       58329  2015-09-15           Goldman Sachs           552862   \n",
       "2       58363  2015-09-16     United Technologies            59157   \n",
       "3       58366  2015-09-16            Novo Nordisk           336175   \n",
       "4       58371  2015-09-16  Lowe's Companies, Inc.           134255   \n",
       "\n",
       "   employees_on_platform                                   link  \\\n",
       "0                  38124  https://www.linkedin.com/company/1382   \n",
       "1                  38141  https://www.linkedin.com/company/1382   \n",
       "2                  14982  https://www.linkedin.com/company/2426   \n",
       "3                  26448  https://www.linkedin.com/company/2227   \n",
       "4                  62574  https://www.linkedin.com/company/4128   \n",
       "\n",
       "               industry              date_added            date_updated  \\\n",
       "0    Investment Banking  2015-09-14 00:00:00+00  2015-09-14 00:00:00+00   \n",
       "1    Investment Banking  2015-09-15 00:00:00+00  2015-09-15 00:00:00+00   \n",
       "2  Aviation & Aerospace  2015-09-16 00:00:00+00  2015-09-16 00:00:00+00   \n",
       "3       Pharmaceuticals  2015-09-16 00:00:00+00  2015-09-16 00:00:00+00   \n",
       "4                Retail  2015-09-16 00:00:00+00  2015-09-16 00:00:00+00   \n",
       "\n",
       "  description website  entity_id  cusip  isin  \n",
       "0         NaN     NaN        NaN    NaN   NaN  \n",
       "1         NaN     NaN        NaN    NaN   NaN  \n",
       "2         NaN     NaN        NaN    NaN   NaN  \n",
       "3         NaN     NaN        NaN    NaN   NaN  \n",
       "4         NaN     NaN        NaN    NaN   NaN  "
      ]
     },
     "execution_count": 5,
     "metadata": {},
     "output_type": "execute_result"
    }
   ],
   "source": [
    "data.head()"
   ]
  },
  {
   "cell_type": "code",
   "execution_count": 6,
   "metadata": {},
   "outputs": [
    {
     "data": {
      "text/plain": [
       "dataset_id                 int64\n",
       "as_of_date                object\n",
       "company_name              object\n",
       "followers_count            int64\n",
       "employees_on_platform      int64\n",
       "link                      object\n",
       "industry                  object\n",
       "date_added                object\n",
       "date_updated              object\n",
       "description               object\n",
       "website                   object\n",
       "entity_id                float64\n",
       "cusip                    float64\n",
       "isin                     float64\n",
       "dtype: object"
      ]
     },
     "execution_count": 6,
     "metadata": {},
     "output_type": "execute_result"
    }
   ],
   "source": [
    "data.dtypes"
   ]
  },
  {
   "cell_type": "code",
   "execution_count": 7,
   "metadata": {},
   "outputs": [
    {
     "data": {
      "text/plain": [
       "140"
      ]
     },
     "execution_count": 7,
     "metadata": {},
     "output_type": "execute_result"
    }
   ],
   "source": [
    "data['industry'].nunique()"
   ]
  },
  {
   "cell_type": "code",
   "execution_count": 8,
   "metadata": {},
   "outputs": [
    {
     "data": {
      "text/plain": [
       "(2426196, 14)"
      ]
     },
     "execution_count": 8,
     "metadata": {},
     "output_type": "execute_result"
    }
   ],
   "source": [
    "data.shape"
   ]
  },
  {
   "cell_type": "code",
   "execution_count": 15,
   "metadata": {},
   "outputs": [
    {
     "data": {
      "text/plain": [
       "array(['Goldman Sachs', 'United Technologies', 'Novo Nordisk', ...,\n",
       "       'Playa Hotels & Resorts', 'Compañía de Minas Buenaventura S.A.A.',\n",
       "       'KKR & Co. Inc.'], dtype=object)"
      ]
     },
     "execution_count": 15,
     "metadata": {},
     "output_type": "execute_result"
    }
   ],
   "source": [
    "#data['company_name'].unique()"
   ]
  },
  {
   "cell_type": "code",
   "execution_count": 13,
   "metadata": {},
   "outputs": [
    {
     "data": {
      "text/html": [
       "<div>\n",
       "<style scoped>\n",
       "    .dataframe tbody tr th:only-of-type {\n",
       "        vertical-align: middle;\n",
       "    }\n",
       "\n",
       "    .dataframe tbody tr th {\n",
       "        vertical-align: top;\n",
       "    }\n",
       "\n",
       "    .dataframe thead th {\n",
       "        text-align: right;\n",
       "    }\n",
       "</style>\n",
       "<table border=\"1\" class=\"dataframe\">\n",
       "  <thead>\n",
       "    <tr style=\"text-align: right;\">\n",
       "      <th></th>\n",
       "      <th>dataset_id</th>\n",
       "      <th>followers_count</th>\n",
       "      <th>employees_on_platform</th>\n",
       "      <th>entity_id</th>\n",
       "      <th>cusip</th>\n",
       "      <th>isin</th>\n",
       "    </tr>\n",
       "  </thead>\n",
       "  <tbody>\n",
       "    <tr>\n",
       "      <th>count</th>\n",
       "      <td>2.426196e+06</td>\n",
       "      <td>2.426196e+06</td>\n",
       "      <td>2.426196e+06</td>\n",
       "      <td>0.0</td>\n",
       "      <td>0.0</td>\n",
       "      <td>0.0</td>\n",
       "    </tr>\n",
       "    <tr>\n",
       "      <th>mean</th>\n",
       "      <td>7.347932e+05</td>\n",
       "      <td>7.167738e+04</td>\n",
       "      <td>7.587255e+03</td>\n",
       "      <td>NaN</td>\n",
       "      <td>NaN</td>\n",
       "      <td>NaN</td>\n",
       "    </tr>\n",
       "    <tr>\n",
       "      <th>std</th>\n",
       "      <td>5.004440e+05</td>\n",
       "      <td>2.638344e+05</td>\n",
       "      <td>2.412444e+04</td>\n",
       "      <td>NaN</td>\n",
       "      <td>NaN</td>\n",
       "      <td>NaN</td>\n",
       "    </tr>\n",
       "    <tr>\n",
       "      <th>min</th>\n",
       "      <td>5.832900e+04</td>\n",
       "      <td>0.000000e+00</td>\n",
       "      <td>0.000000e+00</td>\n",
       "      <td>NaN</td>\n",
       "      <td>NaN</td>\n",
       "      <td>NaN</td>\n",
       "    </tr>\n",
       "    <tr>\n",
       "      <th>25%</th>\n",
       "      <td>6.851400e+04</td>\n",
       "      <td>2.148000e+03</td>\n",
       "      <td>2.180000e+02</td>\n",
       "      <td>NaN</td>\n",
       "      <td>NaN</td>\n",
       "      <td>NaN</td>\n",
       "    </tr>\n",
       "    <tr>\n",
       "      <th>50%</th>\n",
       "      <td>8.790880e+05</td>\n",
       "      <td>9.335000e+03</td>\n",
       "      <td>1.083000e+03</td>\n",
       "      <td>NaN</td>\n",
       "      <td>NaN</td>\n",
       "      <td>NaN</td>\n",
       "    </tr>\n",
       "    <tr>\n",
       "      <th>75%</th>\n",
       "      <td>9.029690e+05</td>\n",
       "      <td>3.864200e+04</td>\n",
       "      <td>4.513000e+03</td>\n",
       "      <td>NaN</td>\n",
       "      <td>NaN</td>\n",
       "      <td>NaN</td>\n",
       "    </tr>\n",
       "    <tr>\n",
       "      <th>max</th>\n",
       "      <td>2.339486e+06</td>\n",
       "      <td>7.833967e+06</td>\n",
       "      <td>5.779520e+05</td>\n",
       "      <td>NaN</td>\n",
       "      <td>NaN</td>\n",
       "      <td>NaN</td>\n",
       "    </tr>\n",
       "  </tbody>\n",
       "</table>\n",
       "</div>"
      ],
      "text/plain": [
       "         dataset_id  followers_count  employees_on_platform  entity_id  cusip  \\\n",
       "count  2.426196e+06     2.426196e+06           2.426196e+06        0.0    0.0   \n",
       "mean   7.347932e+05     7.167738e+04           7.587255e+03        NaN    NaN   \n",
       "std    5.004440e+05     2.638344e+05           2.412444e+04        NaN    NaN   \n",
       "min    5.832900e+04     0.000000e+00           0.000000e+00        NaN    NaN   \n",
       "25%    6.851400e+04     2.148000e+03           2.180000e+02        NaN    NaN   \n",
       "50%    8.790880e+05     9.335000e+03           1.083000e+03        NaN    NaN   \n",
       "75%    9.029690e+05     3.864200e+04           4.513000e+03        NaN    NaN   \n",
       "max    2.339486e+06     7.833967e+06           5.779520e+05        NaN    NaN   \n",
       "\n",
       "       isin  \n",
       "count   0.0  \n",
       "mean    NaN  \n",
       "std     NaN  \n",
       "min     NaN  \n",
       "25%     NaN  \n",
       "50%     NaN  \n",
       "75%     NaN  \n",
       "max     NaN  "
      ]
     },
     "execution_count": 13,
     "metadata": {},
     "output_type": "execute_result"
    }
   ],
   "source": [
    "data.describe()"
   ]
  },
  {
   "cell_type": "code",
   "execution_count": 9,
   "metadata": {},
   "outputs": [],
   "source": [
    "data['as_of_date'] = pd.to_datetime(data['as_of_date'])"
   ]
  },
  {
   "cell_type": "code",
   "execution_count": 10,
   "metadata": {},
   "outputs": [],
   "source": [
    "Google = data.loc[data['company_name'] == \"Google\", ]"
   ]
  },
  {
   "cell_type": "code",
   "execution_count": 11,
   "metadata": {},
   "outputs": [
    {
     "data": {
      "text/html": [
       "<div>\n",
       "<style scoped>\n",
       "    .dataframe tbody tr th:only-of-type {\n",
       "        vertical-align: middle;\n",
       "    }\n",
       "\n",
       "    .dataframe tbody tr th {\n",
       "        vertical-align: top;\n",
       "    }\n",
       "\n",
       "    .dataframe thead th {\n",
       "        text-align: right;\n",
       "    }\n",
       "</style>\n",
       "<table border=\"1\" class=\"dataframe\">\n",
       "  <thead>\n",
       "    <tr style=\"text-align: right;\">\n",
       "      <th></th>\n",
       "      <th>dataset_id</th>\n",
       "      <th>as_of_date</th>\n",
       "      <th>company_name</th>\n",
       "      <th>followers_count</th>\n",
       "      <th>employees_on_platform</th>\n",
       "      <th>link</th>\n",
       "      <th>industry</th>\n",
       "      <th>date_added</th>\n",
       "      <th>date_updated</th>\n",
       "      <th>description</th>\n",
       "      <th>website</th>\n",
       "      <th>entity_id</th>\n",
       "      <th>cusip</th>\n",
       "      <th>isin</th>\n",
       "    </tr>\n",
       "  </thead>\n",
       "  <tbody>\n",
       "    <tr>\n",
       "      <th>33</th>\n",
       "      <td>58448</td>\n",
       "      <td>2015-09-16</td>\n",
       "      <td>Google</td>\n",
       "      <td>3615989</td>\n",
       "      <td>67682</td>\n",
       "      <td>https://www.linkedin.com/company/1441</td>\n",
       "      <td>Internet</td>\n",
       "      <td>2015-09-16 00:00:00+00</td>\n",
       "      <td>2015-09-16 00:00:00+00</td>\n",
       "      <td>NaN</td>\n",
       "      <td>NaN</td>\n",
       "      <td>NaN</td>\n",
       "      <td>NaN</td>\n",
       "      <td>NaN</td>\n",
       "    </tr>\n",
       "    <tr>\n",
       "      <th>174</th>\n",
       "      <td>58448</td>\n",
       "      <td>2015-09-17</td>\n",
       "      <td>Google</td>\n",
       "      <td>3618814</td>\n",
       "      <td>67716</td>\n",
       "      <td>https://www.linkedin.com/company/1441</td>\n",
       "      <td>Internet</td>\n",
       "      <td>2015-09-17 00:00:00+00</td>\n",
       "      <td>2015-09-17 00:00:00+00</td>\n",
       "      <td>NaN</td>\n",
       "      <td>NaN</td>\n",
       "      <td>NaN</td>\n",
       "      <td>NaN</td>\n",
       "      <td>NaN</td>\n",
       "    </tr>\n",
       "    <tr>\n",
       "      <th>437</th>\n",
       "      <td>58448</td>\n",
       "      <td>2015-09-18</td>\n",
       "      <td>Google</td>\n",
       "      <td>3622173</td>\n",
       "      <td>67751</td>\n",
       "      <td>https://www.linkedin.com/company/1441</td>\n",
       "      <td>Internet</td>\n",
       "      <td>2015-09-18 00:00:00+00</td>\n",
       "      <td>2015-09-18 00:00:00+00</td>\n",
       "      <td>NaN</td>\n",
       "      <td>NaN</td>\n",
       "      <td>NaN</td>\n",
       "      <td>NaN</td>\n",
       "      <td>NaN</td>\n",
       "    </tr>\n",
       "    <tr>\n",
       "      <th>816</th>\n",
       "      <td>58448</td>\n",
       "      <td>2015-09-19</td>\n",
       "      <td>Google</td>\n",
       "      <td>3624480</td>\n",
       "      <td>67774</td>\n",
       "      <td>https://www.linkedin.com/company/1441</td>\n",
       "      <td>Internet</td>\n",
       "      <td>2015-09-19 00:00:00+00</td>\n",
       "      <td>2015-09-19 00:00:00+00</td>\n",
       "      <td>NaN</td>\n",
       "      <td>NaN</td>\n",
       "      <td>NaN</td>\n",
       "      <td>NaN</td>\n",
       "      <td>NaN</td>\n",
       "    </tr>\n",
       "    <tr>\n",
       "      <th>1239</th>\n",
       "      <td>58448</td>\n",
       "      <td>2015-09-20</td>\n",
       "      <td>Google</td>\n",
       "      <td>3626696</td>\n",
       "      <td>67804</td>\n",
       "      <td>https://www.linkedin.com/company/1441</td>\n",
       "      <td>Internet</td>\n",
       "      <td>2015-09-20 00:00:00+00</td>\n",
       "      <td>2015-09-20 00:00:00+00</td>\n",
       "      <td>NaN</td>\n",
       "      <td>NaN</td>\n",
       "      <td>NaN</td>\n",
       "      <td>NaN</td>\n",
       "      <td>NaN</td>\n",
       "    </tr>\n",
       "  </tbody>\n",
       "</table>\n",
       "</div>"
      ],
      "text/plain": [
       "      dataset_id as_of_date company_name  followers_count  \\\n",
       "33         58448 2015-09-16       Google          3615989   \n",
       "174        58448 2015-09-17       Google          3618814   \n",
       "437        58448 2015-09-18       Google          3622173   \n",
       "816        58448 2015-09-19       Google          3624480   \n",
       "1239       58448 2015-09-20       Google          3626696   \n",
       "\n",
       "      employees_on_platform                                   link  industry  \\\n",
       "33                    67682  https://www.linkedin.com/company/1441  Internet   \n",
       "174                   67716  https://www.linkedin.com/company/1441  Internet   \n",
       "437                   67751  https://www.linkedin.com/company/1441  Internet   \n",
       "816                   67774  https://www.linkedin.com/company/1441  Internet   \n",
       "1239                  67804  https://www.linkedin.com/company/1441  Internet   \n",
       "\n",
       "                  date_added            date_updated description website  \\\n",
       "33    2015-09-16 00:00:00+00  2015-09-16 00:00:00+00         NaN     NaN   \n",
       "174   2015-09-17 00:00:00+00  2015-09-17 00:00:00+00         NaN     NaN   \n",
       "437   2015-09-18 00:00:00+00  2015-09-18 00:00:00+00         NaN     NaN   \n",
       "816   2015-09-19 00:00:00+00  2015-09-19 00:00:00+00         NaN     NaN   \n",
       "1239  2015-09-20 00:00:00+00  2015-09-20 00:00:00+00         NaN     NaN   \n",
       "\n",
       "      entity_id  cusip  isin  \n",
       "33          NaN    NaN   NaN  \n",
       "174         NaN    NaN   NaN  \n",
       "437         NaN    NaN   NaN  \n",
       "816         NaN    NaN   NaN  \n",
       "1239        NaN    NaN   NaN  "
      ]
     },
     "execution_count": 11,
     "metadata": {},
     "output_type": "execute_result"
    }
   ],
   "source": [
    "Google.head()"
   ]
  },
  {
   "cell_type": "code",
   "execution_count": 12,
   "metadata": {},
   "outputs": [
    {
     "data": {
      "text/plain": [
       "(1022, 14)"
      ]
     },
     "execution_count": 12,
     "metadata": {},
     "output_type": "execute_result"
    }
   ],
   "source": [
    "Google.shape"
   ]
  },
  {
   "cell_type": "code",
   "execution_count": 19,
   "metadata": {},
   "outputs": [
    {
     "data": {
      "text/plain": [
       "Text(0,0.5,'Employee Number')"
      ]
     },
     "execution_count": 19,
     "metadata": {},
     "output_type": "execute_result"
    },
    {
     "data": {
      "image/png": "[encoded data removed]",
      "text/plain": [
       "<matplotlib.figure.Figure at 0x4eda588>"
      ]
     },
     "metadata": {
      "needs_background": "light"
     },
     "output_type": "display_data"
    }
   ],
   "source": [
    "fig = plt.figure(figsize = (12,8))\n",
    "ax = fig.add_subplot(111)\n",
    "ax.plot(Google['as_of_date'], Google['employees_on_platform'], color = (0,0,0), linewidth = 4, alpha = 0.5, label = 'Google Employee Trend')\n",
    "ax.set_xlabel('Time')\n",
    "ax.set_ylabel('Employee Number')"
   ]
  },
  {
   "cell_type": "code",
   "execution_count": 14,
   "metadata": {},
   "outputs": [],
   "source": [
    "newData = data.loc[: ,['as_of_date', 'employees_on_platform','industry']]"
   ]
  },
  {
   "cell_type": "code",
   "execution_count": 53,
   "metadata": {},
   "outputs": [],
   "source": [
    "IndustryTrend = newData.pivot_table(index = 'as_of_date', columns = 'industry', values = 'employees_on_platform', aggfunc = np.sum)"
   ]
  },
  {
   "cell_type": "code",
   "execution_count": 31,
   "metadata": {},
   "outputs": [
    {
     "data": {
      "text/html": [
       "<div>\n",
       "<style scoped>\n",
       "    .dataframe tbody tr th:only-of-type {\n",
       "        vertical-align: middle;\n",
       "    }\n",
       "\n",
       "    .dataframe tbody tr th {\n",
       "        vertical-align: top;\n",
       "    }\n",
       "\n",
       "    .dataframe thead th {\n",
       "        text-align: right;\n",
       "    }\n",
       "</style>\n",
       "<table border=\"1\" class=\"dataframe\">\n",
       "  <thead>\n",
       "    <tr style=\"text-align: right;\">\n",
       "      <th>industry</th>\n",
       "      <th>Accounting</th>\n",
       "      <th>Airlines/Aviation</th>\n",
       "      <th>Apparel &amp; Fashion</th>\n",
       "      <th>Apparel &amp;amp; Fashion</th>\n",
       "      <th>Automotive</th>\n",
       "      <th>Aviation &amp; Aerospace</th>\n",
       "      <th>Aviation &amp;amp; Aerospace</th>\n",
       "      <th>Banking</th>\n",
       "      <th>Biotechnology</th>\n",
       "      <th>Broadcast Media</th>\n",
       "      <th>...</th>\n",
       "      <th>Transportation/Trucking/Railroad</th>\n",
       "      <th>Utilities</th>\n",
       "      <th>Venture Capital &amp; Private Equity</th>\n",
       "      <th>Venture Capital &amp;amp; Private Equity</th>\n",
       "      <th>Veterinary</th>\n",
       "      <th>Warehousing</th>\n",
       "      <th>Wholesale</th>\n",
       "      <th>Wine and Spirits</th>\n",
       "      <th>Wireless</th>\n",
       "      <th>Writing and Editing</th>\n",
       "    </tr>\n",
       "    <tr>\n",
       "      <th>as_of_date</th>\n",
       "      <th></th>\n",
       "      <th></th>\n",
       "      <th></th>\n",
       "      <th></th>\n",
       "      <th></th>\n",
       "      <th></th>\n",
       "      <th></th>\n",
       "      <th></th>\n",
       "      <th></th>\n",
       "      <th></th>\n",
       "      <th></th>\n",
       "      <th></th>\n",
       "      <th></th>\n",
       "      <th></th>\n",
       "      <th></th>\n",
       "      <th></th>\n",
       "      <th></th>\n",
       "      <th></th>\n",
       "      <th></th>\n",
       "      <th></th>\n",
       "      <th></th>\n",
       "    </tr>\n",
       "  </thead>\n",
       "  <tbody>\n",
       "    <tr>\n",
       "      <th>2015-09-14</th>\n",
       "      <td>NaN</td>\n",
       "      <td>NaN</td>\n",
       "      <td>NaN</td>\n",
       "      <td>NaN</td>\n",
       "      <td>NaN</td>\n",
       "      <td>NaN</td>\n",
       "      <td>NaN</td>\n",
       "      <td>NaN</td>\n",
       "      <td>NaN</td>\n",
       "      <td>NaN</td>\n",
       "      <td>...</td>\n",
       "      <td>NaN</td>\n",
       "      <td>NaN</td>\n",
       "      <td>NaN</td>\n",
       "      <td>NaN</td>\n",
       "      <td>NaN</td>\n",
       "      <td>NaN</td>\n",
       "      <td>NaN</td>\n",
       "      <td>NaN</td>\n",
       "      <td>NaN</td>\n",
       "      <td>NaN</td>\n",
       "    </tr>\n",
       "    <tr>\n",
       "      <th>2015-09-15</th>\n",
       "      <td>NaN</td>\n",
       "      <td>NaN</td>\n",
       "      <td>NaN</td>\n",
       "      <td>NaN</td>\n",
       "      <td>NaN</td>\n",
       "      <td>NaN</td>\n",
       "      <td>NaN</td>\n",
       "      <td>NaN</td>\n",
       "      <td>NaN</td>\n",
       "      <td>NaN</td>\n",
       "      <td>...</td>\n",
       "      <td>NaN</td>\n",
       "      <td>NaN</td>\n",
       "      <td>NaN</td>\n",
       "      <td>NaN</td>\n",
       "      <td>NaN</td>\n",
       "      <td>NaN</td>\n",
       "      <td>NaN</td>\n",
       "      <td>NaN</td>\n",
       "      <td>NaN</td>\n",
       "      <td>NaN</td>\n",
       "    </tr>\n",
       "    <tr>\n",
       "      <th>2015-09-16</th>\n",
       "      <td>NaN</td>\n",
       "      <td>NaN</td>\n",
       "      <td>NaN</td>\n",
       "      <td>NaN</td>\n",
       "      <td>187205.0</td>\n",
       "      <td>111255.0</td>\n",
       "      <td>NaN</td>\n",
       "      <td>537181.0</td>\n",
       "      <td>40472.0</td>\n",
       "      <td>NaN</td>\n",
       "      <td>...</td>\n",
       "      <td>12288.0</td>\n",
       "      <td>16232.0</td>\n",
       "      <td>NaN</td>\n",
       "      <td>NaN</td>\n",
       "      <td>NaN</td>\n",
       "      <td>NaN</td>\n",
       "      <td>NaN</td>\n",
       "      <td>20208.0</td>\n",
       "      <td>27673.0</td>\n",
       "      <td>NaN</td>\n",
       "    </tr>\n",
       "    <tr>\n",
       "      <th>2015-09-17</th>\n",
       "      <td>NaN</td>\n",
       "      <td>88509.0</td>\n",
       "      <td>5445.0</td>\n",
       "      <td>NaN</td>\n",
       "      <td>196022.0</td>\n",
       "      <td>111278.0</td>\n",
       "      <td>NaN</td>\n",
       "      <td>581639.0</td>\n",
       "      <td>51827.0</td>\n",
       "      <td>NaN</td>\n",
       "      <td>...</td>\n",
       "      <td>28006.0</td>\n",
       "      <td>24010.0</td>\n",
       "      <td>NaN</td>\n",
       "      <td>NaN</td>\n",
       "      <td>NaN</td>\n",
       "      <td>NaN</td>\n",
       "      <td>NaN</td>\n",
       "      <td>22869.0</td>\n",
       "      <td>27685.0</td>\n",
       "      <td>NaN</td>\n",
       "    </tr>\n",
       "    <tr>\n",
       "      <th>2015-09-18</th>\n",
       "      <td>NaN</td>\n",
       "      <td>106470.0</td>\n",
       "      <td>24204.0</td>\n",
       "      <td>NaN</td>\n",
       "      <td>302951.0</td>\n",
       "      <td>111300.0</td>\n",
       "      <td>NaN</td>\n",
       "      <td>583500.0</td>\n",
       "      <td>57684.0</td>\n",
       "      <td>NaN</td>\n",
       "      <td>...</td>\n",
       "      <td>28014.0</td>\n",
       "      <td>58076.0</td>\n",
       "      <td>NaN</td>\n",
       "      <td>NaN</td>\n",
       "      <td>NaN</td>\n",
       "      <td>NaN</td>\n",
       "      <td>8338.0</td>\n",
       "      <td>25555.0</td>\n",
       "      <td>27709.0</td>\n",
       "      <td>NaN</td>\n",
       "    </tr>\n",
       "  </tbody>\n",
       "</table>\n",
       "<p>5 rows × 140 columns</p>\n",
       "</div>"
      ],
      "text/plain": [
       "industry    Accounting  Airlines/Aviation  Apparel & Fashion  \\\n",
       "as_of_date                                                     \n",
       "2015-09-14         NaN                NaN                NaN   \n",
       "2015-09-15         NaN                NaN                NaN   \n",
       "2015-09-16         NaN                NaN                NaN   \n",
       "2015-09-17         NaN            88509.0             5445.0   \n",
       "2015-09-18         NaN           106470.0            24204.0   \n",
       "\n",
       "industry    Apparel &amp; Fashion  Automotive  Aviation & Aerospace  \\\n",
       "as_of_date                                                            \n",
       "2015-09-14                    NaN         NaN                   NaN   \n",
       "2015-09-15                    NaN         NaN                   NaN   \n",
       "2015-09-16                    NaN    187205.0              111255.0   \n",
       "2015-09-17                    NaN    196022.0              111278.0   \n",
       "2015-09-18                    NaN    302951.0              111300.0   \n",
       "\n",
       "industry    Aviation &amp; Aerospace   Banking  Biotechnology  \\\n",
       "as_of_date                                                      \n",
       "2015-09-14                       NaN       NaN            NaN   \n",
       "2015-09-15                       NaN       NaN            NaN   \n",
       "2015-09-16                       NaN  537181.0        40472.0   \n",
       "2015-09-17                       NaN  581639.0        51827.0   \n",
       "2015-09-18                       NaN  583500.0        57684.0   \n",
       "\n",
       "industry    Broadcast Media         ...           \\\n",
       "as_of_date                          ...            \n",
       "2015-09-14              NaN         ...            \n",
       "2015-09-15              NaN         ...            \n",
       "2015-09-16              NaN         ...            \n",
       "2015-09-17              NaN         ...            \n",
       "2015-09-18              NaN         ...            \n",
       "\n",
       "industry    Transportation/Trucking/Railroad  Utilities  \\\n",
       "as_of_date                                                \n",
       "2015-09-14                               NaN        NaN   \n",
       "2015-09-15                               NaN        NaN   \n",
       "2015-09-16                           12288.0    16232.0   \n",
       "2015-09-17                           28006.0    24010.0   \n",
       "2015-09-18                           28014.0    58076.0   \n",
       "\n",
       "industry    Venture Capital & Private Equity  \\\n",
       "as_of_date                                     \n",
       "2015-09-14                               NaN   \n",
       "2015-09-15                               NaN   \n",
       "2015-09-16                               NaN   \n",
       "2015-09-17                               NaN   \n",
       "2015-09-18                               NaN   \n",
       "\n",
       "industry    Venture Capital &amp; Private Equity  Veterinary  Warehousing  \\\n",
       "as_of_date                                                                  \n",
       "2015-09-14                                   NaN         NaN          NaN   \n",
       "2015-09-15                                   NaN         NaN          NaN   \n",
       "2015-09-16                                   NaN         NaN          NaN   \n",
       "2015-09-17                                   NaN         NaN          NaN   \n",
       "2015-09-18                                   NaN         NaN          NaN   \n",
       "\n",
       "industry    Wholesale  Wine and Spirits  Wireless  Writing and Editing  \n",
       "as_of_date                                                              \n",
       "2015-09-14        NaN               NaN       NaN                  NaN  \n",
       "2015-09-15        NaN               NaN       NaN                  NaN  \n",
       "2015-09-16        NaN           20208.0   27673.0                  NaN  \n",
       "2015-09-17        NaN           22869.0   27685.0                  NaN  \n",
       "2015-09-18     8338.0           25555.0   27709.0                  NaN  \n",
       "\n",
       "[5 rows x 140 columns]"
      ]
     },
     "execution_count": 31,
     "metadata": {},
     "output_type": "execute_result"
    }
   ],
   "source": [
    "IndustryTrend.head()"
   ]
  },
  {
   "cell_type": "code",
   "execution_count": 28,
   "metadata": {},
   "outputs": [
    {
     "data": {
      "text/html": [
       "<div>\n",
       "<style scoped>\n",
       "    .dataframe tbody tr th:only-of-type {\n",
       "        vertical-align: middle;\n",
       "    }\n",
       "\n",
       "    .dataframe tbody tr th {\n",
       "        vertical-align: top;\n",
       "    }\n",
       "\n",
       "    .dataframe thead th {\n",
       "        text-align: right;\n",
       "    }\n",
       "</style>\n",
       "<table border=\"1\" class=\"dataframe\">\n",
       "  <thead>\n",
       "    <tr style=\"text-align: right;\">\n",
       "      <th>industry</th>\n",
       "      <th>Airlines/Aviation</th>\n",
       "      <th>Banking</th>\n",
       "      <th>Chemicals</th>\n",
       "      <th>Financial Services</th>\n",
       "      <th>Hospitality</th>\n",
       "      <th>Machinery</th>\n",
       "      <th>Pharmaceuticals</th>\n",
       "      <th>Real Estate</th>\n",
       "      <th>Retail</th>\n",
       "      <th>Semiconductors</th>\n",
       "      <th>Telecommunications</th>\n",
       "    </tr>\n",
       "    <tr>\n",
       "      <th>as_of_date</th>\n",
       "      <th></th>\n",
       "      <th></th>\n",
       "      <th></th>\n",
       "      <th></th>\n",
       "      <th></th>\n",
       "      <th></th>\n",
       "      <th></th>\n",
       "      <th></th>\n",
       "      <th></th>\n",
       "      <th></th>\n",
       "      <th></th>\n",
       "    </tr>\n",
       "  </thead>\n",
       "  <tbody>\n",
       "    <tr>\n",
       "      <th>2015-09-14</th>\n",
       "      <td>NaN</td>\n",
       "      <td>NaN</td>\n",
       "      <td>NaN</td>\n",
       "      <td>NaN</td>\n",
       "      <td>NaN</td>\n",
       "      <td>NaN</td>\n",
       "      <td>NaN</td>\n",
       "      <td>NaN</td>\n",
       "      <td>NaN</td>\n",
       "      <td>NaN</td>\n",
       "      <td>NaN</td>\n",
       "    </tr>\n",
       "    <tr>\n",
       "      <th>2015-09-15</th>\n",
       "      <td>NaN</td>\n",
       "      <td>NaN</td>\n",
       "      <td>NaN</td>\n",
       "      <td>NaN</td>\n",
       "      <td>NaN</td>\n",
       "      <td>NaN</td>\n",
       "      <td>NaN</td>\n",
       "      <td>NaN</td>\n",
       "      <td>NaN</td>\n",
       "      <td>NaN</td>\n",
       "      <td>NaN</td>\n",
       "    </tr>\n",
       "    <tr>\n",
       "      <th>2015-09-16</th>\n",
       "      <td>NaN</td>\n",
       "      <td>537181.0</td>\n",
       "      <td>27650.0</td>\n",
       "      <td>1017193.0</td>\n",
       "      <td>NaN</td>\n",
       "      <td>NaN</td>\n",
       "      <td>558637.0</td>\n",
       "      <td>3024.0</td>\n",
       "      <td>540997.0</td>\n",
       "      <td>123161.0</td>\n",
       "      <td>270718.0</td>\n",
       "    </tr>\n",
       "    <tr>\n",
       "      <th>2015-09-17</th>\n",
       "      <td>88509.0</td>\n",
       "      <td>581639.0</td>\n",
       "      <td>100351.0</td>\n",
       "      <td>1140012.0</td>\n",
       "      <td>572.0</td>\n",
       "      <td>63400.0</td>\n",
       "      <td>560586.0</td>\n",
       "      <td>4699.0</td>\n",
       "      <td>606548.0</td>\n",
       "      <td>126659.0</td>\n",
       "      <td>507690.0</td>\n",
       "    </tr>\n",
       "    <tr>\n",
       "      <th>2015-09-18</th>\n",
       "      <td>106470.0</td>\n",
       "      <td>583500.0</td>\n",
       "      <td>129598.0</td>\n",
       "      <td>1232590.0</td>\n",
       "      <td>26904.0</td>\n",
       "      <td>63431.0</td>\n",
       "      <td>569639.0</td>\n",
       "      <td>16923.0</td>\n",
       "      <td>840456.0</td>\n",
       "      <td>138565.0</td>\n",
       "      <td>553510.0</td>\n",
       "    </tr>\n",
       "  </tbody>\n",
       "</table>\n",
       "</div>"
      ],
      "text/plain": [
       "industry    Airlines/Aviation   Banking  Chemicals  Financial Services  \\\n",
       "as_of_date                                                               \n",
       "2015-09-14                NaN       NaN        NaN                 NaN   \n",
       "2015-09-15                NaN       NaN        NaN                 NaN   \n",
       "2015-09-16                NaN  537181.0    27650.0           1017193.0   \n",
       "2015-09-17            88509.0  581639.0   100351.0           1140012.0   \n",
       "2015-09-18           106470.0  583500.0   129598.0           1232590.0   \n",
       "\n",
       "industry    Hospitality  Machinery  Pharmaceuticals  Real Estate    Retail  \\\n",
       "as_of_date                                                                   \n",
       "2015-09-14          NaN        NaN              NaN          NaN       NaN   \n",
       "2015-09-15          NaN        NaN              NaN          NaN       NaN   \n",
       "2015-09-16          NaN        NaN         558637.0       3024.0  540997.0   \n",
       "2015-09-17        572.0    63400.0         560586.0       4699.0  606548.0   \n",
       "2015-09-18      26904.0    63431.0         569639.0      16923.0  840456.0   \n",
       "\n",
       "industry    Semiconductors  Telecommunications  \n",
       "as_of_date                                      \n",
       "2015-09-14             NaN                 NaN  \n",
       "2015-09-15             NaN                 NaN  \n",
       "2015-09-16        123161.0            270718.0  \n",
       "2015-09-17        126659.0            507690.0  \n",
       "2015-09-18        138565.0            553510.0  "
      ]
     },
     "execution_count": 28,
     "metadata": {},
     "output_type": "execute_result"
    }
   ],
   "source": [
    "IndustryTrend.loc[:,IndustryTrend.isnull().sum() < 10].head()"
   ]
  },
  {
   "cell_type": "code",
   "execution_count": 54,
   "metadata": {},
   "outputs": [
    {
     "data": {
      "text/plain": [
       "60"
      ]
     },
     "execution_count": 54,
     "metadata": {},
     "output_type": "execute_result"
    }
   ],
   "source": [
    "IndustryTrend['Internet'].isnull().sum()"
   ]
  },
  {
   "cell_type": "code",
   "execution_count": 55,
   "metadata": {},
   "outputs": [],
   "source": [
    "ind_selected_data = IndustryTrend.loc[:,IndustryTrend.isnull().sum() < 10]"
   ]
  },
  {
   "cell_type": "code",
   "execution_count": 56,
   "metadata": {},
   "outputs": [
    {
     "name": "stderr",
     "output_type": "stream",
     "text": [
      "c:\\users\\juan\\appdata\\local\\programs\\python\\python36\\lib\\site-packages\\ipykernel_launcher.py:1: SettingWithCopyWarning: \n",
      "A value is trying to be set on a copy of a slice from a DataFrame.\n",
      "Try using .loc[row_indexer,col_indexer] = value instead\n",
      "\n",
      "See the caveats in the documentation: http://pandas.pydata.org/pandas-docs/stable/indexing.html#indexing-view-versus-copy\n",
      "  \"\"\"Entry point for launching an IPython kernel.\n"
     ]
    }
   ],
   "source": [
    "ind_selected_data['Internet'] = IndustryTrend['Internet']"
   ]
  },
  {
   "cell_type": "code",
   "execution_count": 57,
   "metadata": {},
   "outputs": [
    {
     "name": "stderr",
     "output_type": "stream",
     "text": [
      "c:\\users\\juan\\appdata\\local\\programs\\python\\python36\\lib\\site-packages\\ipykernel_launcher.py:1: SettingWithCopyWarning: \n",
      "A value is trying to be set on a copy of a slice from a DataFrame\n",
      "\n",
      "See the caveats in the documentation: http://pandas.pydata.org/pandas-docs/stable/indexing.html#indexing-view-versus-copy\n",
      "  \"\"\"Entry point for launching an IPython kernel.\n"
     ]
    }
   ],
   "source": [
    "ind_selected_data.dropna(inplace = True)"
   ]
  },
  {
   "cell_type": "code",
   "execution_count": 58,
   "metadata": {
    "scrolled": true
   },
   "outputs": [],
   "source": [
    "#ind_selected_data.reset_index(inplace = True)"
   ]
  },
  {
   "cell_type": "code",
   "execution_count": 59,
   "metadata": {
    "scrolled": true
   },
   "outputs": [],
   "source": [
    "data_transpose = ind_selected_data.transpose()"
   ]
  },
  {
   "cell_type": "code",
   "execution_count": 72,
   "metadata": {},
   "outputs": [
    {
     "data": {
      "text/plain": [
       "industry\n",
       "Airlines/Aviation       88509.0\n",
       "Banking                581639.0\n",
       "Chemicals              100351.0\n",
       "Financial Services    1140012.0\n",
       "Hospitality               572.0\n",
       "Machinery               63400.0\n",
       "Pharmaceuticals        560586.0\n",
       "Real Estate              4699.0\n",
       "Retail                 606548.0\n",
       "Semiconductors         126659.0\n",
       "Telecommunications     507690.0\n",
       "Internet               246280.0\n",
       "Name: 2015-09-17 00:00:00, dtype: float64"
      ]
     },
     "execution_count": 72,
     "metadata": {},
     "output_type": "execute_result"
    }
   ],
   "source": [
    "data1 = data_transpose.loc[:,'2015-09-17']\n",
    "data1"
   ]
  },
  {
   "cell_type": "code",
   "execution_count": 75,
   "metadata": {},
   "outputs": [
    {
     "data": {
      "text/plain": [
       "industry\n",
       "Airlines/Aviation      257996.0\n",
       "Banking               1499553.0\n",
       "Chemicals              270952.0\n",
       "Financial Services    2441840.0\n",
       "Hospitality            422420.0\n",
       "Machinery              170564.0\n",
       "Pharmaceuticals        861517.0\n",
       "Real Estate            304564.0\n",
       "Retail                2102165.0\n",
       "Semiconductors         419616.0\n",
       "Telecommunications    1444802.0\n",
       "Internet               877304.0\n",
       "Name: 2018-07-17 00:00:00, dtype: float64"
      ]
     },
     "execution_count": 75,
     "metadata": {},
     "output_type": "execute_result"
    }
   ],
   "source": [
    "data2 = data_transpose.loc[:,'2018-07-17']\n",
    "data2"
   ]
  },
  {
   "cell_type": "code",
   "execution_count": 77,
   "metadata": {
    "scrolled": true
   },
   "outputs": [
    {
     "data": {
      "image/png": "[encoded data removed]",
      "text/plain": [
       "<matplotlib.figure.Figure at 0x336620f0>"
      ]
     },
     "metadata": {
      "needs_background": "light"
     },
     "output_type": "display_data"
    }
   ],
   "source": [
    "fig = plt.figure(figsize = (12,8))\n",
    "ax = fig.gca()\n",
    "data1.plot.bar(ax = ax, edgecolor = 'black', alpha = 0.3)\n",
    "data2.plot.bar(ax = ax, edgecolor = 'black', alpha = 0.3)\n",
    "plt.xlabel('Employee Distribution in Industry')\n",
    "plt.ylabel('Employee Numbers')\n",
    "plt.show()"
   ]
  },
  {
   "cell_type": "code",
   "execution_count": 84,
   "metadata": {},
   "outputs": [
    {
     "data": {
      "text/plain": [
       "industry\n",
       "as_of_date            datetime64[ns]\n",
       "Airlines/Aviation            float64\n",
       "Banking                      float64\n",
       "Chemicals                    float64\n",
       "Financial Services           float64\n",
       "Hospitality                  float64\n",
       "Machinery                    float64\n",
       "Pharmaceuticals              float64\n",
       "Real Estate                  float64\n",
       "Retail                       float64\n",
       "Semiconductors               float64\n",
       "Telecommunications           float64\n",
       "Internet                     float64\n",
       "dtype: object"
      ]
     },
     "execution_count": 84,
     "metadata": {},
     "output_type": "execute_result"
    }
   ],
   "source": [
    "ind_selected_data.reset_index().dtypes"
   ]
  },
  {
   "cell_type": "code",
   "execution_count": 89,
   "metadata": {},
   "outputs": [],
   "source": [
    "data_smooth = ind_selected_data.rolling(50).mean()"
   ]
  },
  {
   "cell_type": "code",
   "execution_count": 92,
   "metadata": {},
   "outputs": [],
   "source": [
    "data_smooth.dropna(inplace = True)"
   ]
  },
  {
   "cell_type": "code",
   "execution_count": 111,
   "metadata": {},
   "outputs": [
    {
     "data": {
      "text/plain": [
       "<matplotlib.legend.Legend at 0x53ed39e8>"
      ]
     },
     "execution_count": 111,
     "metadata": {},
     "output_type": "execute_result"
    },
    {
     "data": {
      "image/png": "[encoded data removed]",
      "text/plain": [
       "<matplotlib.figure.Figure at 0x53de6e10>"
      ]
     },
     "metadata": {
      "needs_background": "light"
     },
     "output_type": "display_data"
    }
   ],
   "source": [
    "fig = plt.figure(figsize = (18,12))\n",
    "ax = fig.add_subplot(111)\n",
    "ax.plot(data_smooth.reset_index().as_of_date, data_smooth, linewidth = 4, alpha = 0.9)\n",
    "ax.set_xlabel('Time', fontsize = 15)\n",
    "ax.set_ylabel('Employee Number', fontsize = 15)\n",
    "ax.legend(data_smooth.columns, fontsize = 15)"
   ]
  },
  {
   "cell_type": "code",
   "execution_count": 136,
   "metadata": {},
   "outputs": [
    {
     "data": {
      "text/plain": [
       "<matplotlib.colorbar.Colorbar at 0x33d29908>"
      ]
     },
     "execution_count": 136,
     "metadata": {},
     "output_type": "execute_result"
    },
    {
     "data": {
      "image/png": "[encoded data removed]",
      "text/plain": [
       "<matplotlib.figure.Figure at 0x5483bfd0>"
      ]
     },
     "metadata": {
      "needs_background": "light"
     },
     "output_type": "display_data"
    }
   ],
   "source": [
    "corr = data_smooth.corr()\n",
    "fig = plt.figure(figsize = (18,12))\n",
    "ax = fig.add_subplot(111)\n",
    "img = ax.imshow(corr, cmap=plt.get_cmap('bwr'), interpolation='nearest')\n",
    "ax.set_title('Correlation Heat Map Among Industries', fontsize = 20)\n",
    "labels = data_smooth.columns\n",
    "ax.set_xticks(range(len(labels)))\n",
    "ax.set_yticks(range(len(labels)))\n",
    "ax.set_xticklabels(labels, fontsize = 15, rotation = 'vertical')\n",
    "ax.set_yticklabels(labels, fontsize = 15)\n",
    "fig.colorbar(img)\n"
   ]
  },
  {
   "cell_type": "code",
   "execution_count": 114,
   "metadata": {},
   "outputs": [
    {
     "data": {
      "text/html": [
       "<div>\n",
       "<style scoped>\n",
       "    .dataframe tbody tr th:only-of-type {\n",
       "        vertical-align: middle;\n",
       "    }\n",
       "\n",
       "    .dataframe tbody tr th {\n",
       "        vertical-align: top;\n",
       "    }\n",
       "\n",
       "    .dataframe thead th {\n",
       "        text-align: right;\n",
       "    }\n",
       "</style>\n",
       "<table border=\"1\" class=\"dataframe\">\n",
       "  <thead>\n",
       "    <tr style=\"text-align: right;\">\n",
       "      <th>industry</th>\n",
       "      <th>Airlines/Aviation</th>\n",
       "      <th>Banking</th>\n",
       "      <th>Chemicals</th>\n",
       "      <th>Financial Services</th>\n",
       "      <th>Hospitality</th>\n",
       "      <th>Machinery</th>\n",
       "      <th>Pharmaceuticals</th>\n",
       "      <th>Real Estate</th>\n",
       "      <th>Retail</th>\n",
       "      <th>Semiconductors</th>\n",
       "      <th>Telecommunications</th>\n",
       "      <th>Internet</th>\n",
       "    </tr>\n",
       "    <tr>\n",
       "      <th>industry</th>\n",
       "      <th></th>\n",
       "      <th></th>\n",
       "      <th></th>\n",
       "      <th></th>\n",
       "      <th></th>\n",
       "      <th></th>\n",
       "      <th></th>\n",
       "      <th></th>\n",
       "      <th></th>\n",
       "      <th></th>\n",
       "      <th></th>\n",
       "      <th></th>\n",
       "    </tr>\n",
       "  </thead>\n",
       "  <tbody>\n",
       "    <tr>\n",
       "      <th>Airlines/Aviation</th>\n",
       "      <td>1.000000</td>\n",
       "      <td>0.972766</td>\n",
       "      <td>0.977642</td>\n",
       "      <td>0.962315</td>\n",
       "      <td>0.877153</td>\n",
       "      <td>0.948298</td>\n",
       "      <td>0.901349</td>\n",
       "      <td>0.909719</td>\n",
       "      <td>0.975506</td>\n",
       "      <td>0.924775</td>\n",
       "      <td>0.971133</td>\n",
       "      <td>0.913659</td>\n",
       "    </tr>\n",
       "    <tr>\n",
       "      <th>Banking</th>\n",
       "      <td>0.972766</td>\n",
       "      <td>1.000000</td>\n",
       "      <td>0.984652</td>\n",
       "      <td>0.985301</td>\n",
       "      <td>0.942445</td>\n",
       "      <td>0.941786</td>\n",
       "      <td>0.917150</td>\n",
       "      <td>0.956957</td>\n",
       "      <td>0.986123</td>\n",
       "      <td>0.919551</td>\n",
       "      <td>0.976811</td>\n",
       "      <td>0.960804</td>\n",
       "    </tr>\n",
       "    <tr>\n",
       "      <th>Chemicals</th>\n",
       "      <td>0.977642</td>\n",
       "      <td>0.984652</td>\n",
       "      <td>1.000000</td>\n",
       "      <td>0.984130</td>\n",
       "      <td>0.917827</td>\n",
       "      <td>0.944734</td>\n",
       "      <td>0.933231</td>\n",
       "      <td>0.940589</td>\n",
       "      <td>0.979554</td>\n",
       "      <td>0.907934</td>\n",
       "      <td>0.974116</td>\n",
       "      <td>0.923905</td>\n",
       "    </tr>\n",
       "    <tr>\n",
       "      <th>Financial Services</th>\n",
       "      <td>0.962315</td>\n",
       "      <td>0.985301</td>\n",
       "      <td>0.984130</td>\n",
       "      <td>1.000000</td>\n",
       "      <td>0.946531</td>\n",
       "      <td>0.923482</td>\n",
       "      <td>0.956081</td>\n",
       "      <td>0.943195</td>\n",
       "      <td>0.987659</td>\n",
       "      <td>0.888741</td>\n",
       "      <td>0.964861</td>\n",
       "      <td>0.951165</td>\n",
       "    </tr>\n",
       "    <tr>\n",
       "      <th>Hospitality</th>\n",
       "      <td>0.877153</td>\n",
       "      <td>0.942445</td>\n",
       "      <td>0.917827</td>\n",
       "      <td>0.946531</td>\n",
       "      <td>1.000000</td>\n",
       "      <td>0.873542</td>\n",
       "      <td>0.875791</td>\n",
       "      <td>0.965983</td>\n",
       "      <td>0.945182</td>\n",
       "      <td>0.854907</td>\n",
       "      <td>0.921276</td>\n",
       "      <td>0.967288</td>\n",
       "    </tr>\n",
       "    <tr>\n",
       "      <th>Machinery</th>\n",
       "      <td>0.948298</td>\n",
       "      <td>0.941786</td>\n",
       "      <td>0.944734</td>\n",
       "      <td>0.923482</td>\n",
       "      <td>0.873542</td>\n",
       "      <td>1.000000</td>\n",
       "      <td>0.811805</td>\n",
       "      <td>0.929936</td>\n",
       "      <td>0.955847</td>\n",
       "      <td>0.981588</td>\n",
       "      <td>0.961156</td>\n",
       "      <td>0.867674</td>\n",
       "    </tr>\n",
       "    <tr>\n",
       "      <th>Pharmaceuticals</th>\n",
       "      <td>0.901349</td>\n",
       "      <td>0.917150</td>\n",
       "      <td>0.933231</td>\n",
       "      <td>0.956081</td>\n",
       "      <td>0.875791</td>\n",
       "      <td>0.811805</td>\n",
       "      <td>1.000000</td>\n",
       "      <td>0.849065</td>\n",
       "      <td>0.918472</td>\n",
       "      <td>0.763904</td>\n",
       "      <td>0.891749</td>\n",
       "      <td>0.883993</td>\n",
       "    </tr>\n",
       "    <tr>\n",
       "      <th>Real Estate</th>\n",
       "      <td>0.909719</td>\n",
       "      <td>0.956957</td>\n",
       "      <td>0.940589</td>\n",
       "      <td>0.943195</td>\n",
       "      <td>0.965983</td>\n",
       "      <td>0.929936</td>\n",
       "      <td>0.849065</td>\n",
       "      <td>1.000000</td>\n",
       "      <td>0.956955</td>\n",
       "      <td>0.909013</td>\n",
       "      <td>0.949944</td>\n",
       "      <td>0.942804</td>\n",
       "    </tr>\n",
       "    <tr>\n",
       "      <th>Retail</th>\n",
       "      <td>0.975506</td>\n",
       "      <td>0.986123</td>\n",
       "      <td>0.979554</td>\n",
       "      <td>0.987659</td>\n",
       "      <td>0.945182</td>\n",
       "      <td>0.955847</td>\n",
       "      <td>0.918472</td>\n",
       "      <td>0.956955</td>\n",
       "      <td>1.000000</td>\n",
       "      <td>0.933917</td>\n",
       "      <td>0.977925</td>\n",
       "      <td>0.953017</td>\n",
       "    </tr>\n",
       "    <tr>\n",
       "      <th>Semiconductors</th>\n",
       "      <td>0.924775</td>\n",
       "      <td>0.919551</td>\n",
       "      <td>0.907934</td>\n",
       "      <td>0.888741</td>\n",
       "      <td>0.854907</td>\n",
       "      <td>0.981588</td>\n",
       "      <td>0.763904</td>\n",
       "      <td>0.909013</td>\n",
       "      <td>0.933917</td>\n",
       "      <td>1.000000</td>\n",
       "      <td>0.941095</td>\n",
       "      <td>0.859170</td>\n",
       "    </tr>\n",
       "    <tr>\n",
       "      <th>Telecommunications</th>\n",
       "      <td>0.971133</td>\n",
       "      <td>0.976811</td>\n",
       "      <td>0.974116</td>\n",
       "      <td>0.964861</td>\n",
       "      <td>0.921276</td>\n",
       "      <td>0.961156</td>\n",
       "      <td>0.891749</td>\n",
       "      <td>0.949944</td>\n",
       "      <td>0.977925</td>\n",
       "      <td>0.941095</td>\n",
       "      <td>1.000000</td>\n",
       "      <td>0.934862</td>\n",
       "    </tr>\n",
       "    <tr>\n",
       "      <th>Internet</th>\n",
       "      <td>0.913659</td>\n",
       "      <td>0.960804</td>\n",
       "      <td>0.923905</td>\n",
       "      <td>0.951165</td>\n",
       "      <td>0.967288</td>\n",
       "      <td>0.867674</td>\n",
       "      <td>0.883993</td>\n",
       "      <td>0.942804</td>\n",
       "      <td>0.953017</td>\n",
       "      <td>0.859170</td>\n",
       "      <td>0.934862</td>\n",
       "      <td>1.000000</td>\n",
       "    </tr>\n",
       "  </tbody>\n",
       "</table>\n",
       "</div>"
      ],
      "text/plain": [
       "industry            Airlines/Aviation   Banking  Chemicals  \\\n",
       "industry                                                     \n",
       "Airlines/Aviation            1.000000  0.972766   0.977642   \n",
       "Banking                      0.972766  1.000000   0.984652   \n",
       "Chemicals                    0.977642  0.984652   1.000000   \n",
       "Financial Services           0.962315  0.985301   0.984130   \n",
       "Hospitality                  0.877153  0.942445   0.917827   \n",
       "Machinery                    0.948298  0.941786   0.944734   \n",
       "Pharmaceuticals              0.901349  0.917150   0.933231   \n",
       "Real Estate                  0.909719  0.956957   0.940589   \n",
       "Retail                       0.975506  0.986123   0.979554   \n",
       "Semiconductors               0.924775  0.919551   0.907934   \n",
       "Telecommunications           0.971133  0.976811   0.974116   \n",
       "Internet                     0.913659  0.960804   0.923905   \n",
       "\n",
       "industry            Financial Services  Hospitality  Machinery  \\\n",
       "industry                                                         \n",
       "Airlines/Aviation             0.962315     0.877153   0.948298   \n",
       "Banking                       0.985301     0.942445   0.941786   \n",
       "Chemicals                     0.984130     0.917827   0.944734   \n",
       "Financial Services            1.000000     0.946531   0.923482   \n",
       "Hospitality                   0.946531     1.000000   0.873542   \n",
       "Machinery                     0.923482     0.873542   1.000000   \n",
       "Pharmaceuticals               0.956081     0.875791   0.811805   \n",
       "Real Estate                   0.943195     0.965983   0.929936   \n",
       "Retail                        0.987659     0.945182   0.955847   \n",
       "Semiconductors                0.888741     0.854907   0.981588   \n",
       "Telecommunications            0.964861     0.921276   0.961156   \n",
       "Internet                      0.951165     0.967288   0.867674   \n",
       "\n",
       "industry            Pharmaceuticals  Real Estate    Retail  Semiconductors  \\\n",
       "industry                                                                     \n",
       "Airlines/Aviation          0.901349     0.909719  0.975506        0.924775   \n",
       "Banking                    0.917150     0.956957  0.986123        0.919551   \n",
       "Chemicals                  0.933231     0.940589  0.979554        0.907934   \n",
       "Financial Services         0.956081     0.943195  0.987659        0.888741   \n",
       "Hospitality                0.875791     0.965983  0.945182        0.854907   \n",
       "Machinery                  0.811805     0.929936  0.955847        0.981588   \n",
       "Pharmaceuticals            1.000000     0.849065  0.918472        0.763904   \n",
       "Real Estate                0.849065     1.000000  0.956955        0.909013   \n",
       "Retail                     0.918472     0.956955  1.000000        0.933917   \n",
       "Semiconductors             0.763904     0.909013  0.933917        1.000000   \n",
       "Telecommunications         0.891749     0.949944  0.977925        0.941095   \n",
       "Internet                   0.883993     0.942804  0.953017        0.859170   \n",
       "\n",
       "industry            Telecommunications  Internet  \n",
       "industry                                          \n",
       "Airlines/Aviation             0.971133  0.913659  \n",
       "Banking                       0.976811  0.960804  \n",
       "Chemicals                     0.974116  0.923905  \n",
       "Financial Services            0.964861  0.951165  \n",
       "Hospitality                   0.921276  0.967288  \n",
       "Machinery                     0.961156  0.867674  \n",
       "Pharmaceuticals               0.891749  0.883993  \n",
       "Real Estate                   0.949944  0.942804  \n",
       "Retail                        0.977925  0.953017  \n",
       "Semiconductors                0.941095  0.859170  \n",
       "Telecommunications            1.000000  0.934862  \n",
       "Internet                      0.934862  1.000000  "
      ]
     },
     "execution_count": 114,
     "metadata": {},
     "output_type": "execute_result"
    }
   ],
   "source": [
    "corr"
   ]
  },
  {
   "cell_type": "code",
   "execution_count": 126,
   "metadata": {},
   "outputs": [
    {
     "data": {
      "text/plain": [
       "12"
      ]
     },
     "execution_count": 126,
     "metadata": {},
     "output_type": "execute_result"
    }
   ],
   "source": [
    "len(labels)"
   ]
  },
  {
   "cell_type": "code",
   "execution_count": null,
   "metadata": {},
   "outputs": [],
   "source": []
  }
 ],
 "metadata": {
  "kernelspec": {
   "display_name": "Python 3",
   "language": "python",
   "name": "python3"
  },
  "language_info": {
   "codemirror_mode": {
    "name": "ipython",
    "version": 3
   },
   "file_extension": ".py",
   "mimetype": "text/x-python",
   "name": "python",
   "nbconvert_exporter": "python",
   "pygments_lexer": "ipython3",
   "version": "3.6.2"
  }
 },
 "nbformat": 4,
 "nbformat_minor": 2
}
